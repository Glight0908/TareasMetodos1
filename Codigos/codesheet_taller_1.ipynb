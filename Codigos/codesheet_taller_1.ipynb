{
  "nbformat": 4,
  "nbformat_minor": 0,
  "metadata": {
    "colab": {
      "provenance": []
    },
    "kernelspec": {
      "name": "python3",
      "display_name": "Python 3"
    },
    "language_info": {
      "name": "python"
    }
  },
  "cells": [
    {
      "cell_type": "code",
      "source": [
        "import sympy as sp"
      ],
      "metadata": {
        "id": "EH_RtdTL7-3x"
      },
      "execution_count": null,
      "outputs": []
    },
    {
      "cell_type": "code",
      "execution_count": 3,
      "metadata": {
        "id": "l5ZWioAV7tXj",
        "colab": {
          "base_uri": "https://localhost:8080/"
        },
        "outputId": "493498a0-e694-4a1e-8d99-698a15581367"
      },
      "outputs": [
        {
          "output_type": "stream",
          "name": "stdout",
          "text": [
            "Centroide g = (4, 5, 6)\n"
          ]
        }
      ],
      "source": [
        "#ejercicio 3 (1.1.6)\n",
        "def centroide_triangulo(a, b, c):\n",
        "    \"\"\"\n",
        "    Calcula el centroide de un triángulo dados tres vectores posición.\n",
        "    a, b, c deben ser vectores columna de SymPy.\n",
        "    \"\"\"\n",
        "    return (a + b + c) / 3\n",
        "\n",
        "# Definimos los vectores (puedes cambiar estos valores para cualquier caso)\n",
        "a = sp.Matrix([1, 2, 3])\n",
        "b = sp.Matrix([4, 5, 6])\n",
        "c = sp.Matrix([7, 8, 9])\n",
        "\n",
        "# Calculamos el centroide\n",
        "g = centroide_triangulo(a, b, c)\n",
        "print(f\"Centroide g = ({g[0]}, {g[1]}, {g[2]})\")\n"
      ]
    }
  ]
}